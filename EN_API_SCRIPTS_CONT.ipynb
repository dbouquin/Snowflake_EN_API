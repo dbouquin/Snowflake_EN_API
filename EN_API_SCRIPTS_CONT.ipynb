{
 "metadata": {
  "kernelspec": {
   "display_name": "Streamlit Notebook",
   "name": "streamlit"
  }
 },
 "nbformat_minor": 5,
 "nbformat": 4,
 "cells": [
  {
   "cell_type": "code",
   "id": "2c22676b-28bb-46a9-a3c3-42653dc0bd7a",
   "metadata": {
    "language": "sql",
    "name": "get_current_role",
    "resultHeight": 112
   },
   "outputs": [],
   "source": "SELECT CURRENT_ROLE()",
   "execution_count": null
  },
  {
   "cell_type": "code",
   "id": "c695373e-ac74-4b62-a1f1-08206cbd5c81",
   "metadata": {
    "language": "python",
    "name": "imports",
    "resultHeight": 0,
    "codeCollapsed": false
   },
   "source": "from snowflake.snowpark.context import get_active_session\nimport pandas as pd\nimport requests\nimport os\nimport re\nfrom datetime import datetime, timezone\nimport logging\nimport tempfile",
   "execution_count": null,
   "outputs": []
  },
  {
   "cell_type": "code",
   "id": "c8d9dbd2-77d4-4cd0-923d-52cbc7783889",
   "metadata": {
    "language": "sql",
    "name": "get_secret",
    "codeCollapsed": false,
    "resultHeight": 112
   },
   "outputs": [],
   "source": "CREATE OR REPLACE FUNCTION get_EN_secret()\nRETURNS STRING\nLANGUAGE PYTHON\nRUNTIME_VERSION = 3.11\nHANDLER = 'get_EN_secret'\nEXTERNAL_ACCESS_INTEGRATIONS = (EN_INTEGRATION)\nSECRETS = ('cred' = EN_API_TOKEN_DB)\nAS\n$$\nimport _snowflake\n\ndef get_EN_secret():   \n  my_api_key = _snowflake.get_generic_secret_string('cred') \n  return my_api_key\n$$;",
   "execution_count": null
  },
  {
   "cell_type": "code",
   "id": "46908a4d-3942-440f-99d7-8e58ffa387b5",
   "metadata": {
    "language": "python",
    "name": "store_secret",
    "codeCollapsed": false,
    "resultHeight": 54
   },
   "outputs": [],
   "source": "from snowflake.snowpark.context import get_active_session\nsession = get_active_session()\nresults = session.sql('SELECT get_EN_secret()').collect()\nEN_secret = results[0][0]\nEN_secret",
   "execution_count": null
  },
  {
   "cell_type": "code",
   "id": "f6543a69-e0c7-4145-8a90-98a1a97a5716",
   "metadata": {
    "language": "python",
    "name": "testing",
    "resultHeight": 172,
    "codeCollapsed": false
   },
   "outputs": [],
   "source": "session = get_active_session()\n\ntry:\n    # Get file name\n    file_query = \"LIST @CLASSYDATA.EN_API.NEW_FILES\"\n    list_files = session.sql(file_query).collect()\n    most_recent = max([f for f in list_files if f['name'].endswith('.csv')], \n                     key=lambda x: x['last_modified'])\n    most_recent = most_recent['name']\n    print(\"Most recent file:\", most_recent)\n    \n    # Read file (using the full path as it appears in the stage)\n    df = session.read.options({\"field_delimiter\": \",\", \"skip_header\": 1}).csv(f\"@CLASSYDATA.EN_API.{most_recent}\")\n    df = df.toDF(\"EMAIL_ADDRESS\", \"CLASSY_WALK_2024\")\n    print(\"File read successful\")\n    print(\"Number of rows:\", df.count())\n    print(\"Columns:\", df.columns)\n    \n    # Convert to pandas and check data\n    pandas_df = df.to_pandas()\n    print(\"\\nData sample:\")\n    print(pandas_df.head())\n    \nexcept Exception as e:\n    print(\"Error:\", str(e))",
   "execution_count": null
  },
  {
   "cell_type": "markdown",
   "id": "87c656a5-7586-4079-a899-82c848044a83",
   "metadata": {
    "name": "cell8",
    "collapsed": false,
    "resultHeight": 74
   },
   "source": "# Debugging"
  },
  {
   "cell_type": "code",
   "id": "d7ca63bc-101f-4be9-92dd-3d4f8966df44",
   "metadata": {
    "language": "python",
    "name": "cell1",
    "resultHeight": 88,
    "codeCollapsed": false
   },
   "outputs": [],
   "source": "from snowflake.snowpark.context import get_active_session\n\n# Test session\nsession = get_active_session()\nprint(\"Session type:\", type(session))\nprint(\"Session:\", session)\n\n# Test if we can run a simple SQL query\ntry:\n    result = session.sql(\"SELECT CURRENT_WAREHOUSE()\").collect()\n    print(\"Current warehouse:\", result[0][0])\nexcept Exception as e:\n    print(\"SQL Error:\", str(e))",
   "execution_count": null
  },
  {
   "cell_type": "code",
   "id": "5c5075cf-2d7b-4e15-bb0d-7de02bf81b8a",
   "metadata": {
    "language": "python",
    "name": "cell2",
    "codeCollapsed": false,
    "resultHeight": 172
   },
   "outputs": [],
   "source": "# Test just the stage listing\ntry:\n    list_files = session.sql(\"LIST @CLASSYDATA.EN_API.NEW_FILES\").collect()\n    print(\"Files found:\", len(list_files))\n    for file in list_files:\n        print(file['name'])\nexcept Exception as e:\n    print(\"Stage Error:\", str(e))",
   "execution_count": null
  },
  {
   "cell_type": "code",
   "id": "0dd65f20-2420-4af3-a6f5-9488066ce742",
   "metadata": {
    "language": "python",
    "name": "cell5",
    "codeCollapsed": false,
    "resultHeight": 178
   },
   "outputs": [],
   "source": "def get_most_recent_file(session, stage_path):\n    \"\"\"Get the most recent CSV file from the specified stage.\"\"\"\n    try:\n        # List files in stage\n        print(\"Attempting to list files from stage:\", stage_path)\n        query = f\"LIST @{stage_path}\"\n        print(\"Executing query:\", query)\n        \n        list_files = session.sql(query).collect()\n        print(\"Raw files list:\", list_files)\n        \n        if not list_files:\n            raise Exception(\"No files found in stage\")\n        \n        # Filter for CSV files and get the most recent\n        csv_files = [f for f in list_files if f['name'].lower().endswith('.csv')]\n        print(\"CSV files found:\", len(csv_files))\n        print(\"CSV files:\", csv_files)\n        \n        if not csv_files:\n            raise Exception(\"No CSV files found in stage\")\n        \n        most_recent = max(csv_files, key=lambda x: x['last_modified'])\n        print(\"Most recent file details:\", most_recent)\n        \n        return most_recent['name']\n    except Exception as e:\n        print(f\"Error in get_most_recent_file: {str(e)}\")\n        print(f\"Error type: {type(e)}\")\n        raise\n\n# Test the function\ntry:\n    session = get_active_session()\n    stage_path = 'CLASSYDATA.EN_API.NEW_FILES'\n    file_name = get_most_recent_file(session, stage_path)\n    print(\"Final result - Most recent file:\", file_name)\nexcept Exception as e:\n    print(\"Final error:\", str(e))",
   "execution_count": null
  }
 ]
}