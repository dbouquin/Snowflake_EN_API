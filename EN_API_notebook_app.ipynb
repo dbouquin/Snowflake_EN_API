{
 "metadata": {
  "kernelspec": {
   "display_name": "Streamlit Notebook",
   "name": "streamlit"
  }
 },
 "nbformat_minor": 5,
 "nbformat": 4,
 "cells": [
  {
   "cell_type": "code",
   "id": "c3b721f0-3c0e-4fa3-ae0b-3db99c9b7792",
   "metadata": {
    "language": "sql",
    "name": "cell7",
    "codeCollapsed": false,
    "collapsed": false
   },
   "outputs": [],
   "source": "CREATE OR REPLACE NETWORK RULE EN_NETWORK_RULE\nMODE = EGRESS\nTYPE = HOST_PORT\nVALUE_LIST = ('US.ENGAGINGNETWORKS.APP');",
   "execution_count": null
  },
  {
   "cell_type": "code",
   "id": "a1962d88-e82f-4ff8-a56e-aaf12ee5c6f8",
   "metadata": {
    "language": "sql",
    "name": "cell10",
    "codeCollapsed": false,
    "collapsed": false
   },
   "outputs": [],
   "source": "CREATE OR REPLACE SECRET EN_API_TOKEN_DB\nTYPE = GENERIC_STRING\n\nSECRET_STRING='a8fda2f8-aff5-44e7-be10-6234309f3ce0' --Snowflake_EN_API user\n--SECRET_STRING='63f77a9d-266b-4063-ac29-d548fa9bfe57';   --Daina\n--SECRET_STRING ='8a911743-eff6-40fd-b4ba-848a17f4ca9e';    --Jonathan",
   "execution_count": null
  },
  {
   "cell_type": "code",
   "id": "c39be510-ad7a-495e-947f-de212cdcca89",
   "metadata": {
    "language": "sql",
    "name": "cell11",
    "codeCollapsed": false,
    "collapsed": false
   },
   "outputs": [],
   "source": "CREATE OR REPLACE EXTERNAL ACCESS INTEGRATION EN_INTEGRATION\nALLOWED_NETWORK_RULES = (EN_NETWORK_RULE)\nALLOWED_AUTHENTICATION_SECRETS = (EN_API_TOKEN_DB)\nENABLED=TRUE;",
   "execution_count": null
  },
  {
   "cell_type": "code",
   "id": "a0659f00-c831-442a-b229-1e49057c0ec4",
   "metadata": {
    "language": "sql",
    "name": "cell12",
    "codeCollapsed": false,
    "collapsed": false
   },
   "outputs": [],
   "source": "CREATE OR REPLACE ROLE EN_DEVELOPER;\nGRANT USAGE ON INTEGRATION EN_INTEGRATION TO ROLE EN_DEVELOPER;\nGRANT READ ON SECRET EN_API_TOKEN_DB TO ROLE EN_DEVELOPER;",
   "execution_count": null
  },
  {
   "cell_type": "code",
   "id": "2a2f4cc6-7883-4c43-8fe2-752164fcd92a",
   "metadata": {
    "language": "sql",
    "name": "cell13",
    "codeCollapsed": false,
    "collapsed": false
   },
   "outputs": [],
   "source": "CREATE OR REPLACE FUNCTION PROCESS_EN_PAGE(PAGE_ID STRING, EMAIL_ADDRESS STRING)\nRETURNS STRING\nLANGUAGE PYTHON\nRUNTIME_VERSION = 3.11\nHANDLER = 'process_en_page'\nEXTERNAL_ACCESS_INTEGRATIONS = (EN_INTEGRATION)\nPACKAGES = ('requests')\nSECRETS = ('cred' = EN_API_TOKEN_DB)\nAS\n$$\nimport requests\nimport _snowflake\n\ndef process_en_page(page_id, email_address):\n\n    # URL for the authentication endpoint\n    auth_url = \"https://us.engagingnetworks.app/ens/service/authenticate\"\n    \n    # Get the API token from Snowflake Secrets\n    api_token = _snowflake.get_generic_secret_string('cred')  \n\n    headers = {\n        \"Content-Type\": \"application/json\",\n        \"Accept\": \"application/json\"\n    }\n\n    # Authenticate and get the session token\n    response = requests.post(auth_url, data=api_token, headers=headers)\n\n    try:\n        auth_data = response.json()  # Convert to JSON\n    except ValueError:  # In case JSON decoding fails\n        return f\"JSON decoding failed: {response.text}\"  # Return raw response text if not JSON\n\n    # Validate if 'ens-auth-token' is present\n    if 'ens-auth-token' not in auth_data:\n        return f\"'ens-auth-token' not found in response: {auth_data}\"\n    \n    # Extract session token from the response\n    session_token = auth_data['ens-auth-token']\n    \n    # Base URL for the Engaging Networks API to process supporters to a page\n    process_url = f\"https://us.engagingnetworks.app/ens/service/page/{page_id}/process\"\n    \n    # Define the headers, including the session token for authorization\n    headers = {\n        \"Content-Type\": \"application/json\",\n        \"Accept\": \"application/json\",\n        \"ens-auth-token\": session_token\n    }\n    \n    # Create the supporter object containing the email address\n    supporter = {\n        \"suppressAutoResponder\": True,\n        \"standardFieldNames\": False,\n        \"supporter\": {\n            \"Email Address\": email_address\n        }\n    }\n    \n    try:\n        # Make the POST request to process the supporter on the specified page\n        response = requests.post(process_url, json=supporter, headers=headers)\n        response.raise_for_status()  # Ensure that the request was successful\n        \n        # Return the full JSON response content\n        return response.json()  # Convert the response to JSON and return it\n    \n    except requests.exceptions.HTTPError as err:\n        return f\"Failed to process email {email_address} for page {page_id}: {err}, Response: {response.text}\"\n\n$$;\n",
   "execution_count": null
  },
  {
   "cell_type": "code",
   "id": "3775908f-ca36-4846-8f38-5adca39217f2",
   "metadata": {
    "language": "python",
    "name": "cell1",
    "collapsed": false
   },
   "source": "import snowflake.snowpark as snowpark\nimport pandas as pd",
   "execution_count": null,
   "outputs": []
  },
  {
   "cell_type": "code",
   "id": "6220894e-f3ff-47b7-82e4-85db2f874c30",
   "metadata": {
    "language": "python",
    "name": "cell2",
    "codeCollapsed": false,
    "collapsed": false
   },
   "outputs": [],
   "source": "# The Snowpark session is automatically managed within Snowflake\nsession = snowpark.Session.builder.getOrCreate()",
   "execution_count": null
  },
  {
   "cell_type": "code",
   "id": "38b257b7-c9f8-49da-811e-c9371b75ad04",
   "metadata": {
    "language": "python",
    "name": "cell3",
    "codeCollapsed": false,
    "collapsed": false
   },
   "outputs": [],
   "source": "# Load data from the Snowflake stage into a DataFrame\ndf = session.read.options({\"field_delimiter\": \",\", \"skip_header\": 1}).csv(\"@TEST/P2P_EN_page_interactions.csv\")\ndf_pd = df.to_pandas()\ndf_pd.columns = ['EMAIL_ADDRESS', 'EN_PAGE_ID']\ndf_pd.dtypes",
   "execution_count": null
  },
  {
   "cell_type": "code",
   "id": "314405a5-a8ad-40f7-b7f7-e380190c8c2b",
   "metadata": {
    "language": "python",
    "name": "cell9",
    "codeCollapsed": false,
    "collapsed": false
   },
   "outputs": [],
   "source": "for index, row in df_pd.iterrows():\n    email = row['EMAIL_ADDRESS']\n    page_id = row['EN_PAGE_ID']\n    \n    # Run the UDF through an SQL query\n    query = f\"\"\"\n        SELECT PROCESS_EN_PAGE('{page_id}', '{email}') AS result\n    \"\"\"\n    \n    # Execute the query\n    result = session.sql(query).collect()\n    \n    # Display the result for each email/page processed\n    print(result)",
   "execution_count": null
  }
 ]
}