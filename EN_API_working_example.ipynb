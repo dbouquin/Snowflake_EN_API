{
 "cells": [
  {
   "cell_type": "code",
   "execution_count": null,
   "id": "c3b721f0-3c0e-4fa3-ae0b-3db99c9b7792",
   "metadata": {
    "codeCollapsed": false,
    "collapsed": false,
    "language": "sql",
    "name": "cell7"
   },
   "outputs": [],
   "source": [
    "CREATE OR REPLACE NETWORK RULE EN_NETWORK_RULE\n",
    "MODE = EGRESS\n",
    "TYPE = HOST_PORT\n",
    "VALUE_LIST = ('US.ENGAGINGNETWORKS.APP');"
   ]
  },
  {
   "cell_type": "code",
   "execution_count": null,
   "id": "a1962d88-e82f-4ff8-a56e-aaf12ee5c6f8",
   "metadata": {
    "codeCollapsed": false,
    "collapsed": false,
    "language": "sql",
    "name": "cell10"
   },
   "outputs": [],
   "source": [
    "CREATE OR REPLACE SECRET EN_API_TOKEN_DB\n",
    "TYPE = GENERIC_STRING\n",
    "\n",
    "--SECRET_STRING='a8fda2f8-aff5-44e7-be10-6234309f3ce0' --Snowflake_EN_API user\n",
    "SECRET_STRING='63f77a9d-266b-4063-ac29-d548fa9bfe57';   --Daina\n",
    "--SECRET_STRING ='8a911743-eff6-40fd-b4ba-848a17f4ca9e';    --Jonathan"
   ]
  },
  {
   "cell_type": "code",
   "execution_count": null,
   "id": "c39be510-ad7a-495e-947f-de212cdcca89",
   "metadata": {
    "codeCollapsed": false,
    "collapsed": false,
    "language": "sql",
    "name": "cell11"
   },
   "outputs": [],
   "source": [
    "CREATE OR REPLACE EXTERNAL ACCESS INTEGRATION EN_INTEGRATION\n",
    "ALLOWED_NETWORK_RULES = (EN_NETWORK_RULE)\n",
    "ALLOWED_AUTHENTICATION_SECRETS = (EN_API_TOKEN_DB)\n",
    "ENABLED=TRUE;"
   ]
  },
  {
   "cell_type": "code",
   "execution_count": null,
   "id": "a0659f00-c831-442a-b229-1e49057c0ec4",
   "metadata": {
    "codeCollapsed": false,
    "collapsed": false,
    "language": "sql",
    "name": "cell12"
   },
   "outputs": [],
   "source": [
    "CREATE OR REPLACE ROLE EN_DEVELOPER;\n",
    "GRANT USAGE ON INTEGRATION EN_INTEGRATION TO ROLE EN_DEVELOPER;\n",
    "GRANT READ ON SECRET EN_API_TOKEN_DB TO ROLE EN_DEVELOPER;"
   ]
  },
  {
   "cell_type": "code",
   "execution_count": null,
   "id": "0b984dde-f610-4cdc-b501-e8a156ea4cb0",
   "metadata": {
    "language": "python",
    "name": "cell1"
   },
   "outputs": [],
   "source": [
    "# import snowflake.snowpark as snowpark\n",
    "# import pandas as pd\n",
    "     \n",
    "\n",
    "# # The Snowpark session is automatically managed within Snowflake\n",
    "# session = snowpark.Session.builder.getOrCreate()\n",
    "     \n",
    "\n",
    "# # Load data from the Snowflake stage into a DataFrame\n",
    "# df = session.read.options({\"field_delimiter\": \",\", \"skip_header\": 1}).csv(\"@TEST/P2P_EN_page_interactions_v2.csv\")\n",
    "# df_pd = df.to_pandas()\n",
    "# df_pd.columns = ['Email Address', 'CLASSY_TEST', 'UNI_OPTIN']\n",
    "# df_pd"
   ]
  },
  {
   "cell_type": "code",
   "execution_count": null,
   "id": "b9c6dd0a-9234-451b-93e7-9f57e9b76f46",
   "metadata": {
    "codeCollapsed": false,
    "collapsed": false,
    "language": "sql",
    "name": "cell2"
   },
   "outputs": [],
   "source": [
    "CREATE OR REPLACE FUNCTION PROCESS_EN_PAGE()\n",
    "RETURNS STRING\n",
    "LANGUAGE PYTHON\n",
    "RUNTIME_VERSION = 3.11\n",
    "HANDLER = 'process_en_page'\n",
    "EXTERNAL_ACCESS_INTEGRATIONS = (EN_INTEGRATION)\n",
    "PACKAGES = ('requests')\n",
    "SECRETS = ('cred' = EN_API_TOKEN_DB)\n",
    "IMPORTS=('@TEST/P2P_EN_page_interactions_v2.csv')\n",
    "AS\n",
    "$$\n",
    "import requests\n",
    "import _snowflake\n",
    "import sys\n",
    "import os\n",
    "\n",
    "# File to upload\n",
    "with open(os.path.join(sys._xoptions[\"snowflake_import_directory\"], 'P2P_EN_page_interactions_v2.csv'), \"r\", encoding='utf-8') as f:\n",
    "    file = f.read()\n",
    "\n",
    "def process_en_page():\n",
    "        \n",
    "    # URL for the authentication endpoint\n",
    "    url = \"https://us.engagingnetworks.app/ea-dataservice/import.service\"\n",
    "        \n",
    "    # Get the API token from Snowflake Secrets\n",
    "    api_token = _snowflake.get_generic_secret_string('cred')  \n",
    "    \n",
    "    # Create a payload for the request\n",
    "    data = {\n",
    "        'token': api_token,\n",
    "        'name': 'Test import from Snowflake',\n",
    "        'formatName': 'classy_API_pp_v2'\n",
    "    }\n",
    "        \n",
    "    \n",
    "    # Send the request\n",
    "    response = requests.post(url, data=data, files={'file': ('P2P_EN_page_interactions_v2.csv', file)})\n",
    "\n",
    "\n",
    "    # Print response\n",
    "    return response.text  # Return the response content as a string\n",
    "\n",
    "$$;"
   ]
  },
  {
   "cell_type": "code",
   "execution_count": null,
   "id": "2c8e2ee5-aa63-49e0-b2ca-d8f17993d147",
   "metadata": {
    "codeCollapsed": false,
    "language": "sql",
    "name": "cell3"
   },
   "outputs": [],
   "source": [
    "SELECT PROCESS_EN_PAGE()"
   ]
  },
  {
   "cell_type": "code",
   "execution_count": null,
   "id": "bca50688-e688-4c8c-a5dc-d02af4642b21",
   "metadata": {
    "codeCollapsed": false,
    "language": "sql",
    "name": "cell4"
   },
   "outputs": [],
   "source": []
  }
 ],
 "metadata": {
  "kernelspec": {
   "display_name": "Streamlit Notebook",
   "name": "streamlit"
  }
 },
 "nbformat": 4,
 "nbformat_minor": 5
}
