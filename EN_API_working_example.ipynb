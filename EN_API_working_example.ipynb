{
 "metadata": {
  "kernelspec": {
   "display_name": "Streamlit Notebook",
   "name": "streamlit"
  }
 },
 "nbformat_minor": 5,
 "nbformat": 4,
 "cells": [
  {
   "cell_type": "code",
   "id": "c3b721f0-3c0e-4fa3-ae0b-3db99c9b7792",
   "metadata": {
    "language": "sql",
    "name": "cell7",
    "codeCollapsed": false,
    "collapsed": false
   },
   "outputs": [],
   "source": "CREATE OR REPLACE NETWORK RULE EN_NETWORK_RULE\nMODE = EGRESS\nTYPE = HOST_PORT\nVALUE_LIST = ('US.ENGAGINGNETWORKS.APP');",
   "execution_count": null
  },
  {
   "cell_type": "code",
   "id": "a1962d88-e82f-4ff8-a56e-aaf12ee5c6f8",
   "metadata": {
    "language": "sql",
    "name": "cell10",
    "codeCollapsed": false,
    "collapsed": false
   },
   "outputs": [],
   "source": "CREATE OR REPLACE SECRET EN_API_TOKEN_DB\nTYPE = GENERIC_STRING\n\n--SECRET_STRING='a8fda2f8-aff5-44e7-be10-6234309f3ce0' --Snowflake_EN_API user\nSECRET_STRING='63f77a9d-266b-4063-ac29-d548fa9bfe57';   --Daina\n--SECRET_STRING ='8a911743-eff6-40fd-b4ba-848a17f4ca9e';    --Jonathan",
   "execution_count": null
  },
  {
   "cell_type": "code",
   "id": "c39be510-ad7a-495e-947f-de212cdcca89",
   "metadata": {
    "language": "sql",
    "name": "cell11",
    "codeCollapsed": false,
    "collapsed": false
   },
   "outputs": [],
   "source": "CREATE OR REPLACE EXTERNAL ACCESS INTEGRATION EN_INTEGRATION\nALLOWED_NETWORK_RULES = (EN_NETWORK_RULE)\nALLOWED_AUTHENTICATION_SECRETS = (EN_API_TOKEN_DB)\nENABLED=TRUE;",
   "execution_count": null
  },
  {
   "cell_type": "code",
   "id": "a0659f00-c831-442a-b229-1e49057c0ec4",
   "metadata": {
    "language": "sql",
    "name": "cell12",
    "codeCollapsed": false,
    "collapsed": false
   },
   "outputs": [],
   "source": "CREATE OR REPLACE ROLE EN_DEVELOPER;\nGRANT USAGE ON INTEGRATION EN_INTEGRATION TO ROLE EN_DEVELOPER;\nGRANT READ ON SECRET EN_API_TOKEN_DB TO ROLE EN_DEVELOPER;",
   "execution_count": null
  },
  {
   "cell_type": "code",
   "id": "0b984dde-f610-4cdc-b501-e8a156ea4cb0",
   "metadata": {
    "language": "python",
    "name": "cell1"
   },
   "outputs": [],
   "source": "import snowflake.snowpark as snowpark\nimport pandas as pd\n     \n\n# The Snowpark session is automatically managed within Snowflake\nsession = snowpark.Session.builder.getOrCreate()\n     \n\n# Load data from the Snowflake stage into a DataFrame\ndf = session.read.options({\"field_delimiter\": \",\", \"skip_header\": 1}).csv(\"@TEST/P2P_EN_page_interactions_v2.csv\")\ndf_pd = df.to_pandas()\ndf_pd.columns = ['Email Address', 'CLASSY_TEST', 'UNI_OPTIN']\ndf_pd",
   "execution_count": null
  },
  {
   "cell_type": "code",
   "id": "b9c6dd0a-9234-451b-93e7-9f57e9b76f46",
   "metadata": {
    "language": "sql",
    "name": "cell2",
    "codeCollapsed": false,
    "collapsed": false
   },
   "outputs": [],
   "source": "CREATE OR REPLACE FUNCTION PROCESS_EN_PAGE()\nRETURNS STRING\nLANGUAGE PYTHON\nRUNTIME_VERSION = 3.11\nHANDLER = 'process_en_page'\nEXTERNAL_ACCESS_INTEGRATIONS = (EN_INTEGRATION)\nPACKAGES = ('requests')\nSECRETS = ('cred' = EN_API_TOKEN_DB)\nIMPORTS=('@TEST/P2P_EN_page_interactions_v2.csv')\nAS\n$$\nimport requests\nimport _snowflake\nimport sys\nimport os\n\n# File to upload\nwith open(os.path.join(sys._xoptions[\"snowflake_import_directory\"], 'P2P_EN_page_interactions_v2.csv'), \"r\", encoding='utf-8') as f:\n    file = f.read()\n\ndef process_en_page():\n        \n    # URL for the authentication endpoint\n    url = \"https://us.engagingnetworks.app/ea-dataservice/import.service\"\n        \n    # Get the API token from Snowflake Secrets\n    api_token = _snowflake.get_generic_secret_string('cred')  \n    \n    # Create a payload for the request\n    data = {\n        'token': api_token,\n        'name': 'Test import from Snowflake',\n        'formatName': 'classy_API_pp_v2'\n    }\n        \n    \n    # Send the request\n    response = requests.post(url, data=data, files={'file': ('P2P_EN_page_interactions_v2.csv', file)})\n\n\n    # Print response\n    return response.text  # Return the response content as a string\n\n$$;",
   "execution_count": null
  },
  {
   "cell_type": "code",
   "id": "2c8e2ee5-aa63-49e0-b2ca-d8f17993d147",
   "metadata": {
    "language": "sql",
    "name": "cell3",
    "codeCollapsed": false
   },
   "outputs": [],
   "source": "SELECT PROCESS_EN_PAGE()",
   "execution_count": null
  },
  {
   "cell_type": "code",
   "id": "bca50688-e688-4c8c-a5dc-d02af4642b21",
   "metadata": {
    "language": "sql",
    "name": "cell4",
    "codeCollapsed": false
   },
   "outputs": [],
   "source": "",
   "execution_count": null
  }
 ]
}