{
 "metadata": {
  "kernelspec": {
   "display_name": "Streamlit Notebook",
   "name": "streamlit"
  }
 },
 "nbformat_minor": 5,
 "nbformat": 4,
 "cells": [
  {
   "cell_type": "markdown",
   "id": "3575a5d2-f61b-4156-8624-c576cd43b435",
   "metadata": {
    "name": "setup",
    "collapsed": false
   },
   "source": "Set up the external integration and secret storage to access EN API."
  },
  {
   "cell_type": "code",
   "id": "c3b721f0-3c0e-4fa3-ae0b-3db99c9b7792",
   "metadata": {
    "language": "sql",
    "name": "network_rule",
    "codeCollapsed": false,
    "collapsed": false
   },
   "outputs": [],
   "source": "CREATE OR REPLACE NETWORK RULE EN_NETWORK_RULE\nMODE = EGRESS\nTYPE = HOST_PORT\nVALUE_LIST = ('US.ENGAGINGNETWORKS.APP');",
   "execution_count": null
  },
  {
   "cell_type": "code",
   "id": "a1962d88-e82f-4ff8-a56e-aaf12ee5c6f8",
   "metadata": {
    "language": "sql",
    "name": "define_secret",
    "codeCollapsed": false,
    "collapsed": false
   },
   "outputs": [],
   "source": "CREATE OR REPLACE SECRET EN_API_DB_20241007\nTYPE = GENERIC_STRING\n\nSECRET_STRING='d93391b2-a348-4522-90e1-23ab9df2b1fd';  ",
   "execution_count": null
  },
  {
   "cell_type": "code",
   "id": "c39be510-ad7a-495e-947f-de212cdcca89",
   "metadata": {
    "language": "sql",
    "name": "external_int",
    "codeCollapsed": false,
    "collapsed": false
   },
   "outputs": [],
   "source": "CREATE OR REPLACE EXTERNAL ACCESS INTEGRATION EN_INTEGRATION\nALLOWED_NETWORK_RULES = (EN_NETWORK_RULE)\nALLOWED_AUTHENTICATION_SECRETS = (EN_API_DB_20241007)\nENABLED=TRUE;",
   "execution_count": null
  },
  {
   "cell_type": "code",
   "id": "a0659f00-c831-442a-b229-1e49057c0ec4",
   "metadata": {
    "language": "sql",
    "name": "role",
    "codeCollapsed": false,
    "collapsed": false
   },
   "outputs": [],
   "source": "CREATE OR REPLACE ROLE EN_DEVELOPER;\nGRANT USAGE ON INTEGRATION EN_INTEGRATION TO ROLE EN_DEVELOPER;\nGRANT READ ON SECRET EN_API_DB_20241007 TO ROLE EN_DEVELOPER;",
   "execution_count": null
  },
  {
   "cell_type": "markdown",
   "id": "c3618fb1-d71b-4417-be7f-1d5b5e6819a3",
   "metadata": {
    "name": "udf_readme",
    "collapsed": false
   },
   "source": "The below UDF can currently only be used for the CLASSY_WALK_2024 page in EN. This is because EN requires you to first upload a template for your data structure with a column named for the specific page you're processing supporters to. All columns must be mapped appropriately.\n\nMoving forward, we will need to create a new column for each EN page and create an updated format prior to using this UDF with any additional page.\n\nNote: The EN \"format name\" is hardcoded. The EN page also has an \"Override page name\" set, which allows us to use CLASSY_WALK_2024 instead of \"Classy Walk 2024\" as the column name."
  },
  {
   "cell_type": "code",
   "id": "b9c6dd0a-9234-451b-93e7-9f57e9b76f46",
   "metadata": {
    "language": "sql",
    "name": "udf",
    "codeCollapsed": false,
    "collapsed": false
   },
   "outputs": [],
   "source": "CREATE OR REPLACE FUNCTION PROCESS_PAGE()\nRETURNS STRING\nLANGUAGE PYTHON\nRUNTIME_VERSION = 3.11\nHANDLER = 'process_page'\nEXTERNAL_ACCESS_INTEGRATIONS = (EN_INTEGRATION)\nPACKAGES = ('requests')\nSECRETS = ('cred' = EN_API_DB_20241007)\nIMPORTS=('@NEW_FILES/20241005_P2P_EN_page_interactions.csv')\nAS\n$$\nimport requests\nimport _snowflake\nimport sys\nimport os\n\n# File to upload\nwith open(os.path.join(sys._xoptions[\"snowflake_import_directory\"], '20241005_P2P_EN_page_interactions.csv'), \"r\", encoding='utf-8') as f:\n    file = f.read()\n\ndef process_page():\n        \n    # URL for the authentication endpoint\n    url = \"https://us.engagingnetworks.app/ea-dataservice/import.service\"\n        \n    # Get the API token from Snowflake Secrets\n    api_token = _snowflake.get_generic_secret_string('cred')  \n    \n    # Create a payload for the request\n    data = {\n        'token': api_token,\n        'name': 'Test import from Snowflake',\n        'formatName': 'classy_to_EN_API'\n    }\n        \n    \n    # Send the request\n    response = requests.post(url, data=data, files={'file': ('20241005_P2P_EN_page_interactions.csv', file)})\n\n\n    # Print response\n    return response.text  # Return the response content as a string\n\n$$;",
   "execution_count": null
  },
  {
   "cell_type": "code",
   "id": "2c8e2ee5-aa63-49e0-b2ca-d8f17993d147",
   "metadata": {
    "language": "sql",
    "name": "execute_udf",
    "codeCollapsed": false,
    "collapsed": false
   },
   "outputs": [],
   "source": "SELECT PROCESS_PAGE()",
   "execution_count": null
  },
  {
   "cell_type": "markdown",
   "id": "c720ddb7-d7af-442b-9342-8374027bdc1f",
   "metadata": {
    "name": "to_do",
    "collapsed": false
   },
   "source": "The above UDF works for a static file name and for processing a single file. Next we need to enable dynamic file naming and the ability to process multiple files if they exist. Once files are processed they should be moved to a \"processed\" folder or a separate stage."
  }
 ]
}