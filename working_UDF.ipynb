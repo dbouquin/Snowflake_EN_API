{
 "metadata": {
  "kernelspec": {
   "display_name": "Streamlit Notebook",
   "name": "streamlit"
  }
 },
 "nbformat_minor": 5,
 "nbformat": 4,
 "cells": [
  {
   "cell_type": "markdown",
   "id": "c3618fb1-d71b-4417-be7f-1d5b5e6819a3",
   "metadata": {
    "name": "udf_readme",
    "collapsed": false,
    "resultHeight": 294
   },
   "source": "The below UDF can currently only be used for the CLASSY_WALK_2024 page in EN. This is because EN requires you to first upload a template for your data structure with a column named for the specific page you're processing supporters to. All columns must be mapped appropriately.\n\nMoving forward, we will need to create a new column for each EN page and create an updated format prior to using this UDF with any additional page.\n\nNote: The EN \"format name\" is hardcoded. The EN page also has an \"Override page name\" set, which allows us to use CLASSY_WALK_2024 instead of \"Classy Walk 2024\" as the column name.\n\nTo do: The UDF works for a static file name and for processing a single file. Next we need to process anything in the view Jonathan is creating that is not in the processed table."
  },
  {
   "cell_type": "code",
   "id": "b9c6dd0a-9234-451b-93e7-9f57e9b76f46",
   "metadata": {
    "language": "sql",
    "name": "udf",
    "codeCollapsed": false,
    "collapsed": false,
    "resultHeight": 112
   },
   "outputs": [],
   "source": "CREATE OR REPLACE FUNCTION PROCESS_PAGE()\nRETURNS STRING\nLANGUAGE PYTHON\nRUNTIME_VERSION = 3.11\nHANDLER = 'process_page'\nEXTERNAL_ACCESS_INTEGRATIONS = (EN_INTEGRATION)\nPACKAGES = ('requests')\nSECRETS = ('cred' = EN_API_DB_20241007)\nIMPORTS=('@NEW_FILES/20241126_2_P2P_EN_page_interactions.csv')\nAS\n$$\nimport requests\nimport _snowflake\nimport sys\nimport os\n\nfile_name = \"20241126_2_P2P_EN_page_interactions.csv\"\n\n# File to upload\nwith open(os.path.join(sys._xoptions[\"snowflake_import_directory\"], file_name), \"r\", encoding='utf-8') as f:\n    file = f.read()\n\ndef process_page():\n        \n    # URL for the authentication endpoint\n    url = \"https://us.engagingnetworks.app/ea-dataservice/import.service\"\n        \n    # Get the API token from Snowflake Secrets\n    api_token = _snowflake.get_generic_secret_string('cred')  \n    \n    # Create a payload for the request\n    data = {\n        'token': api_token,\n        'name': 'Test import from Snowflake',\n        'formatName': 'classy_to_EN_API'\n    }\n    \n    # Send the request\n    response = requests.post(url, data=data, files={'file': (file_name, file)})\n\n    # Print response\n    return response.text  # Return the response content as a string\n\n$$;",
   "execution_count": null
  },
  {
   "cell_type": "code",
   "id": "2c8e2ee5-aa63-49e0-b2ca-d8f17993d147",
   "metadata": {
    "language": "sql",
    "name": "execute_udf",
    "codeCollapsed": false,
    "collapsed": false,
    "resultHeight": 112
   },
   "outputs": [],
   "source": "SELECT PROCESS_PAGE()",
   "execution_count": null
  }
 ]
}